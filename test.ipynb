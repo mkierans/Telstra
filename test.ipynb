#!/usr/bin/env python2
# -*- coding: utf-8 -*-
"""
Created on Thu Nov 17 13:45:23 2016

@author: matt
"""

import numpy as np
import pandas as pd


5+5

test = pd.DataFrame([1,2,3,4], columns=['test'])

test.head()