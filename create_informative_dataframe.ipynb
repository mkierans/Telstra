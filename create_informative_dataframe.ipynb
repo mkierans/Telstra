# -*- coding: utf-8 -*-
"""
Created on Mon Feb 15 11:23:51 2016

@author: Matt
"""

import pandas as pd
import numpy as np

''' Read data into pandas / make data type into integers / groupby id making list of values /
    concat all data frames together and save csv file to disk '''

# Location and Fault severity
train = pd.read_csv('train.csv', index_col = 'id')
test = pd.read_csv('test.csv', index_col = 'id')
train['fault_severity'] = train['fault_severity'].apply(lambda x: int(x))

# Concat train/test data filling missing fault_severity column in test file
label_loc = pd.concat([train, test], axis = 0).fillna('train!')
label_loc = label_loc.sort_index() # sort by ascending id number
label_loc['location'] = label_loc['location'].apply(lambda x: int(x.split('location ')[1]))

# Event type data
event_type = pd.read_csv('Event_type.csv')
event_type['event_type'] = event_type['event_type'].apply(lambda x: int(x.split('event_type ')[1]))
event_type = pd.DataFrame(event_type.groupby(['id'])['event_type'].apply(list))
event_type['event_type'] = event_type['event_type'].apply(lambda x: sorted(x))

# Log feature data
log_feature = pd.read_csv('log_feature.csv')
log_feature['log_feature'] = log_feature['log_feature'].apply(lambda x: int(x.split('feature ')[1]))
log_feature.sort_values('log_feature', inplace = True)
log_feature = pd.concat([log_feature.groupby(['id'])['log_feature'].apply(list), log_feature.groupby(['id'])['volume'].apply(list)], axis = 1)

# Resource type data
resource_type = pd.read_csv('resource_type.csv')
resource_type['resource_type'] = resource_type['resource_type'].apply(lambda x: int(x.split('resource_type ')[1]))
resource_type = pd.DataFrame(resource_type.groupby(['id'])['resource_type'].apply(list))
resource_type['resource_type'] = resource_type['resource_type'].apply(lambda x: sorted(x))

# Severity type data - one entry per id
severity_type = pd.read_csv('severity_type.csv')
severity_type['severity_type'] = severity_type['severity_type'].apply(lambda x: int(x.split('severity_type ')[1]))

# The id ordering in severity_type seems to have hidden information
id_order = severity_type.loc[:, 'id'].values

# groupby changes the ordering of the dataframe so this must come after id_order assignment
severity_type = pd.DataFrame(severity_type.groupby(['id'])['severity_type'].apply(list))

# Concat all data into one pandas data frame
merge_data = pd.concat([label_loc, event_type, resource_type, severity_type, log_feature], axis = 1)
ordered_data = merge_data.reindex(id_order) #reorder by id_order
ordered_data.to_csv('Order_Informative.csv') # save to file